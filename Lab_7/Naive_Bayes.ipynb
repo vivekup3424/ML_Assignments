{
 "cells": [
  {
   "cell_type": "code",
   "execution_count": 1,
   "id": "1de07bec-2532-4039-a9f7-1508d0a12808",
   "metadata": {},
   "outputs": [],
   "source": [
    "import pandas as pd\n",
    "import numpy as np"
   ]
  },
  {
   "cell_type": "code",
   "execution_count": 2,
   "id": "f9ec08eb-c72b-4448-9cec-b0eb82660af9",
   "metadata": {},
   "outputs": [],
   "source": [
    "df = pd.read_csv(\"../data/Social_Network_Ads.csv\")"
   ]
  },
  {
   "cell_type": "code",
   "execution_count": 3,
   "id": "7f70101d-5991-4aa0-8b14-58a2cef93c13",
   "metadata": {},
   "outputs": [
    {
     "name": "stdout",
     "output_type": "stream",
     "text": [
      "Probability of purchase: 1.769982228923108e-08\n",
      "Probability of not purchase: 4.503523063775893e-07\n"
     ]
    }
   ],
   "source": [
    "# Calculate prior probabilities\n",
    "prior_yes = df['Purchased'].sum() / len(df)\n",
    "prior_no = 1 - prior_yes\n",
    "\n",
    "# Calculate conditional probabilities for Age and EstimatedSalary\n",
    "mean_age_yes = df[df['Purchased'] == 1]['Age'].mean()\n",
    "std_age_yes = df[df['Purchased'] == 1]['Age'].std()\n",
    "mean_salary_yes = df[df['Purchased'] == 1]['EstimatedSalary'].mean()\n",
    "std_salary_yes = df[df['Purchased'] == 1]['EstimatedSalary'].std()\n",
    "\n",
    "mean_age_no = df[df['Purchased'] == 0]['Age'].mean()\n",
    "std_age_no = df[df['Purchased'] == 0]['Age'].std()\n",
    "mean_salary_no = df[df['Purchased'] == 0]['EstimatedSalary'].mean()\n",
    "std_salary_no = df[df['Purchased'] == 0]['EstimatedSalary'].std()\n",
    "\n",
    "# Define Naive Bayes function to predict the probability of purchase\n",
    "def naive_bayes_classifier(age, salary):\n",
    "    prob_yes = (1 / (np.sqrt(2 * np.pi) * std_age_yes)) * np.exp(-0.5 * ((age - mean_age_yes) / std_age_yes) ** 2) * \\\n",
    "               (1 / (np.sqrt(2 * np.pi) * std_salary_yes)) * np.exp(-0.5 * ((salary - mean_salary_yes) / std_salary_yes) ** 2) * prior_yes\n",
    "    prob_no = (1 / (np.sqrt(2 * np.pi) * std_age_no)) * np.exp(-0.5 * ((age - mean_age_no) / std_age_no) ** 2) * \\\n",
    "              (1 / (np.sqrt(2 * np.pi) * std_salary_no)) * np.exp(-0.5 * ((salary - mean_salary_no) / std_salary_no) ** 2) * prior_no\n",
    "    return prob_yes, prob_no\n",
    "\n",
    "# Test the Naive Bayes classifier\n",
    "age_test = 30\n",
    "salary_test = 50000\n",
    "prob_yes, prob_no = naive_bayes_classifier(age_test, salary_test)\n",
    "\n",
    "print(f'Probability of purchase: {prob_yes}')\n",
    "print(f'Probability of not purchase: {prob_no}')"
   ]
  }
 ],
 "metadata": {
  "kernelspec": {
   "display_name": "Python 3 (ipykernel)",
   "language": "python",
   "name": "python3"
  },
  "language_info": {
   "codemirror_mode": {
    "name": "ipython",
    "version": 3
   },
   "file_extension": ".py",
   "mimetype": "text/x-python",
   "name": "python",
   "nbconvert_exporter": "python",
   "pygments_lexer": "ipython3",
   "version": "3.10.12"
  }
 },
 "nbformat": 4,
 "nbformat_minor": 5
}
