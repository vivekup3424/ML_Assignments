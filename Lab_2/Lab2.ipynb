{
 "cells": [
  {
   "cell_type": "code",
   "execution_count": 84,
   "metadata": {},
   "outputs": [],
   "source": [
    "import pandas as pd\n",
    "import numpy as np\n",
    "from sklearn.linear_model import LinearRegression\n",
    "from sklearn.model_selection import train_test_split\n",
    "from sklearn.metrics import mean_squared_error"
   ]
  },
  {
   "cell_type": "code",
   "execution_count": 37,
   "metadata": {},
   "outputs": [
    {
     "name": "stdout",
     "output_type": "stream",
     "text": [
      "<bound method DataFrame.info of       age     sex   bmi  children smoker     region  expenses\n",
      "0      19  female  27.9         0    yes  southwest  16884.92\n",
      "1      18    male  33.8         1     no  southeast   1725.55\n",
      "2      28    male  33.0         3     no  southeast   4449.46\n",
      "3      33    male  22.7         0     no  northwest  21984.47\n",
      "4      32    male  28.9         0     no  northwest   3866.86\n",
      "...   ...     ...   ...       ...    ...        ...       ...\n",
      "1333   50    male  31.0         3     no  northwest  10600.55\n",
      "1334   18  female  31.9         0     no  northeast   2205.98\n",
      "1335   18  female  36.9         0     no  southeast   1629.83\n",
      "1336   21  female  25.8         0     no  southwest   2007.95\n",
      "1337   61  female  29.1         0    yes  northwest  29141.36\n",
      "\n",
      "[1338 rows x 7 columns]>\n",
      "now data types -------\n",
      "age           int64\n",
      "sex          object\n",
      "bmi         float64\n",
      "children      int64\n",
      "smoker       object\n",
      "region       object\n",
      "expenses    float64\n",
      "dtype: object\n"
     ]
    }
   ],
   "source": [
    "insurance = pd.read_csv(\"insurance.csv\")\n",
    "print(insurance.info)\n",
    "print(\"now data types -------\")\n",
    "print(insurance.dtypes)"
   ]
  },
  {
   "cell_type": "markdown",
   "metadata": {},
   "source": [
    "from above\n",
    "age, bmi, children, expenses are numeric\n",
    "\n",
    "sex,smoker region are categorical in nature"
   ]
  },
  {
   "cell_type": "code",
   "execution_count": 38,
   "metadata": {},
   "outputs": [
    {
     "name": "stdout",
     "output_type": "stream",
     "text": [
      "Data types for different features\n",
      "age            int64\n",
      "sex         category\n",
      "bmi          float64\n",
      "children       int64\n",
      "smoker      category\n",
      "region      category\n",
      "expenses     float64\n",
      "dtype: object\n",
      ".......................................\n",
      "Basic Info\n",
      "<class 'pandas.core.frame.DataFrame'>\n",
      "RangeIndex: 1338 entries, 0 to 1337\n",
      "Data columns (total 7 columns):\n",
      " #   Column    Non-Null Count  Dtype   \n",
      "---  ------    --------------  -----   \n",
      " 0   age       1338 non-null   int64   \n",
      " 1   sex       1338 non-null   category\n",
      " 2   bmi       1338 non-null   float64 \n",
      " 3   children  1338 non-null   int64   \n",
      " 4   smoker    1338 non-null   category\n",
      " 5   region    1338 non-null   category\n",
      " 6   expenses  1338 non-null   float64 \n",
      "dtypes: category(3), float64(2), int64(2)\n",
      "memory usage: 46.3 KB\n",
      "None\n"
     ]
    }
   ],
   "source": [
    "categorical_columns = [\"sex\",\"smoker\",\"region\"]\n",
    "insurance[categorical_columns] = insurance[categorical_columns].astype(\"category\")\n",
    "print(\"Data types for different features\")\n",
    "print(insurance.dtypes)\n",
    "print(\".......................................\")\n",
    "print(\"Basic Info\")\n",
    "print(insurance.info())"
   ]
  },
  {
   "cell_type": "markdown",
   "metadata": {},
   "source": [
    "1. expenses - continuous\n",
    "2. age - discrete\n",
    "3. children - discrete\n",
    "4. sex - categorical\n",
    "5. smoker - categorical (binary)\n",
    "6. bmi - continuous (ratio)"
   ]
  },
  {
   "cell_type": "code",
   "execution_count": 39,
   "metadata": {},
   "outputs": [
    {
     "data": {
      "text/plain": [
       "{'sex':   category  count\n",
       " 0     male    676\n",
       " 1   female    662,\n",
       " 'smoker':   category  count\n",
       " 0       no   1064\n",
       " 1      yes    274,\n",
       " 'region':     category  count\n",
       " 0  southeast    364\n",
       " 1  northwest    325\n",
       " 2  southwest    325\n",
       " 3  northeast    324}"
      ]
     },
     "execution_count": 39,
     "metadata": {},
     "output_type": "execute_result"
    }
   ],
   "source": [
    "\"\"\" 4. Consider all categorical available as character/string \n",
    " and try to measure the number of\n",
    " observations in each category (i.e., number of observations in MALE)\n",
    "\"\"\"\n",
    "\n",
    "observation_count = dict()\n",
    "\n",
    "for column in categorical_columns:\n",
    "    observation_count[column] = insurance[column].value_counts().rename_axis(\"category\").reset_index(name = \"count\")\n",
    "\n",
    "observation_count"
   ]
  },
  {
   "cell_type": "code",
   "execution_count": 40,
   "metadata": {},
   "outputs": [
    {
     "name": "stdout",
     "output_type": "stream",
     "text": [
      "age           47\n",
      "sex            2\n",
      "bmi          275\n",
      "children       6\n",
      "smoker         2\n",
      "region         4\n",
      "expenses    1337\n",
      "dtype: int64\n",
      "['female', 'male']\n",
      "Categories (2, object): ['female', 'male']\n",
      "['yes', 'no']\n",
      "Categories (2, object): ['no', 'yes']\n",
      "['southwest', 'southeast', 'northwest', 'northeast']\n",
      "Categories (4, object): ['northeast', 'northwest', 'southeast', 'southwest']\n",
      "sex\n",
      "male      676\n",
      "female    662\n",
      "Name: count, dtype: int64\n",
      "smoker\n",
      "no     1064\n",
      "yes     274\n",
      "Name: count, dtype: int64\n",
      "region\n",
      "southeast    364\n",
      "northwest    325\n",
      "southwest    325\n",
      "northeast    324\n",
      "Name: count, dtype: int64\n"
     ]
    }
   ],
   "source": [
    "print(insurance.nunique())\n",
    "\n",
    "#getting the number of unique values of categorical data\n",
    "for i in categorical_columns:\n",
    "    print(insurance[i].unique())\n",
    "\n",
    "#number of values of each feature value of categorical data\n",
    "for i in categorical_columns:\n",
    "    print(insurance[i].value_counts())"
   ]
  },
  {
   "cell_type": "code",
   "execution_count": 41,
   "metadata": {},
   "outputs": [
    {
     "name": "stdout",
     "output_type": "stream",
     "text": [
      "insurance Stats:-\n",
      "           count          mean           std      min        25%      50%  \\\n",
      "age       1338.0     39.207025     14.049960    18.00    27.0000    39.00   \n",
      "bmi       1338.0     30.665471      6.098382    16.00    26.3000    30.40   \n",
      "children  1338.0      1.094918      1.205493     0.00     0.0000     1.00   \n",
      "expenses  1338.0  13270.422414  12110.011240  1121.87  4740.2875  9382.03   \n",
      "\n",
      "                75%       max  \n",
      "age          51.000     64.00  \n",
      "bmi          34.700     53.10  \n",
      "children      2.000      5.00  \n",
      "expenses  16639.915  63770.43  \n",
      "\n",
      "Correlation Coefficients for insurance\n",
      "               age       bmi  children  expenses\n",
      "age       1.000000  0.109341  0.042469  0.299008\n",
      "bmi       0.109341  1.000000  0.012645  0.198576\n",
      "children  0.042469  0.012645  1.000000  0.067998\n",
      "expenses  0.299008  0.198576  0.067998  1.000000\n"
     ]
    }
   ],
   "source": [
    "# Select only numeric columns for correlation calculation\n",
    "numeric_columns = insurance.select_dtypes(include=['int64', 'float64']).columns\n",
    "insurance_corr = insurance[numeric_columns].corr()\n",
    "\n",
    "# Calculate statistical properties for dataset-1\n",
    "insurance_stats = insurance.describe().transpose()\n",
    "\n",
    "# Print the results\n",
    "print(\"insurance Stats:-\")\n",
    "print(insurance_stats)\n",
    "\n",
    "print(\"\\nCorrelation Coefficients for insurance\")\n",
    "print(insurance_corr)\n"
   ]
  },
  {
   "cell_type": "markdown",
   "metadata": {},
   "source": [
    "## using some linear regression model here"
   ]
  },
  {
   "cell_type": "code",
   "execution_count": 87,
   "metadata": {},
   "outputs": [
    {
     "name": "stdout",
     "output_type": "stream",
     "text": [
      "LinearRegression()\n"
     ]
    }
   ],
   "source": [
    "#assuming \"expenses\" is the target variable, and the rest are input variables\n",
    "X = insurance.drop(['expenses'], axis=1)\n",
    "Y = insurance['expenses']\n",
    "\n",
    "X_encoded = pd.get_dummies(X, drop_first=True)\n",
    "\n",
    "#split the data\n",
    "X_train_encoded, X_test_encoded, Y_train, Y_test = train_test_split(X_encoded, Y, test_size=0.2, random_state=22)\n",
    "\n",
    "model1 = LinearRegression().fit(X_train_encoded, Y_train)\n",
    "\n",
    "Y_predict = "
   ]
  }
 ],
 "metadata": {
  "kernelspec": {
   "display_name": "Python 3 (ipykernel)",
   "language": "python",
   "name": "python3"
  },
  "language_info": {
   "codemirror_mode": {
    "name": "ipython",
    "version": 3
   },
   "file_extension": ".py",
   "mimetype": "text/x-python",
   "name": "python",
   "nbconvert_exporter": "python",
   "pygments_lexer": "ipython3",
   "version": "3.12.1"
  }
 },
 "nbformat": 4,
 "nbformat_minor": 4
}
